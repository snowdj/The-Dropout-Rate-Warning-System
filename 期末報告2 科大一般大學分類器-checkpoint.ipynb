{
 "cells": [
  {
   "cell_type": "code",
   "execution_count": 210,
   "metadata": {
    "collapsed": true
   },
   "outputs": [],
   "source": [
    "import pandas as pd\n",
    "import matplotlib.pyplot as plt\n",
    "from sklearn.linear_model import LinearRegression\n",
    "from pyexcel_ods import get_data\n",
    "import pyexcel\n",
    "\n",
    "import pandas\n",
    "from pandas.tools.plotting import scatter_matrix\n",
    "import matplotlib.pyplot as plt\n",
    "from sklearn import model_selection\n",
    "from sklearn.metrics import classification_report\n",
    "from sklearn.metrics import confusion_matrix\n",
    "from sklearn.metrics import accuracy_score\n",
    "from sklearn.linear_model import LogisticRegression\n",
    "from sklearn.tree import DecisionTreeClassifier\n",
    "from sklearn.neighbors import KNeighborsClassifier\n",
    "from sklearn.discriminant_analysis import LinearDiscriminantAnalysis\n",
    "from sklearn.naive_bayes import GaussianNB\n",
    "from sklearn.svm import SVC\n"
   ]
  },
  {
   "cell_type": "code",
   "execution_count": 211,
   "metadata": {
    "collapsed": false,
    "scrolled": false
   },
   "outputs": [
    {
     "data": {
      "text/plain": [
       "(6003, 13)"
      ]
     },
     "execution_count": 211,
     "metadata": {},
     "output_type": "execute_result"
    }
   ],
   "source": [
    "# Loadtxt\n",
    "data = pd.read_csv('https://drive.google.com/uc?export=download&id=1dsMwUCqQJKUUUJZMG0pp32KpgF0XaqvY', index_col=0)\n",
    "data.shape\n"
   ]
  },
  {
   "cell_type": "code",
   "execution_count": 212,
   "metadata": {
    "collapsed": false
   },
   "outputs": [
    {
     "data": {
      "text/html": [
       "<div>\n",
       "<style>\n",
       "    .dataframe thead tr:only-child th {\n",
       "        text-align: right;\n",
       "    }\n",
       "\n",
       "    .dataframe thead th {\n",
       "        text-align: left;\n",
       "    }\n",
       "\n",
       "    .dataframe tbody tr th {\n",
       "        vertical-align: top;\n",
       "    }\n",
       "</style>\n",
       "<table border=\"1\" class=\"dataframe\">\n",
       "  <thead>\n",
       "    <tr style=\"text-align: right;\">\n",
       "      <th></th>\n",
       "      <th>Unnamed: 1</th>\n",
       "      <th>Unnamed: 2</th>\n",
       "      <th>Unnamed: 3</th>\n",
       "      <th>Unnamed: 4</th>\n",
       "      <th>Unnamed: 5</th>\n",
       "      <th>Unnamed: 6</th>\n",
       "      <th>Unnamed: 7</th>\n",
       "      <th>Unnamed: 8</th>\n",
       "      <th>Unnamed: 9</th>\n",
       "      <th>Unnamed: 10</th>\n",
       "      <th>Unnamed: 11</th>\n",
       "      <th>Unnamed: 12</th>\n",
       "      <th>Unnamed: 13</th>\n",
       "    </tr>\n",
       "    <tr>\n",
       "      <th>5.休學人數</th>\n",
       "      <th></th>\n",
       "      <th></th>\n",
       "      <th></th>\n",
       "      <th></th>\n",
       "      <th></th>\n",
       "      <th></th>\n",
       "      <th></th>\n",
       "      <th></th>\n",
       "      <th></th>\n",
       "      <th></th>\n",
       "      <th></th>\n",
       "      <th></th>\n",
       "      <th></th>\n",
       "    </tr>\n",
       "  </thead>\n",
       "  <tbody>\n",
       "    <tr>\n",
       "      <th>學年度</th>\n",
       "      <td>學期</td>\n",
       "      <td>學校</td>\n",
       "      <td>NaN</td>\n",
       "      <td>NaN</td>\n",
       "      <td>NaN</td>\n",
       "      <td>學制</td>\n",
       "      <td>學生總人數</td>\n",
       "      <td>學期內新增辦理休學人數</td>\n",
       "      <td>NaN</td>\n",
       "      <td>NaN</td>\n",
       "      <td>至學期底總休學人數</td>\n",
       "      <td>NaN</td>\n",
       "      <td>NaN</td>\n",
       "    </tr>\n",
       "    <tr>\n",
       "      <th>NaN</th>\n",
       "      <td>NaN</td>\n",
       "      <td>設立別</td>\n",
       "      <td>學校類別</td>\n",
       "      <td>學校代碼</td>\n",
       "      <td>學校名稱</td>\n",
       "      <td>NaN</td>\n",
       "      <td>NaN</td>\n",
       "      <td>總計</td>\n",
       "      <td>男</td>\n",
       "      <td>女</td>\n",
       "      <td>總計</td>\n",
       "      <td>男</td>\n",
       "      <td>女</td>\n",
       "    </tr>\n",
       "    <tr>\n",
       "      <th>101</th>\n",
       "      <td>1</td>\n",
       "      <td>公立</td>\n",
       "      <td>一般大學</td>\n",
       "      <td>1</td>\n",
       "      <td>國立政治大學</td>\n",
       "      <td>學士班(日間)</td>\n",
       "      <td>9782</td>\n",
       "      <td>130</td>\n",
       "      <td>72</td>\n",
       "      <td>58</td>\n",
       "      <td>206</td>\n",
       "      <td>106</td>\n",
       "      <td>100</td>\n",
       "    </tr>\n",
       "    <tr>\n",
       "      <th>101</th>\n",
       "      <td>1</td>\n",
       "      <td>公立</td>\n",
       "      <td>一般大學</td>\n",
       "      <td>1</td>\n",
       "      <td>國立政治大學</td>\n",
       "      <td>碩士班(日間)</td>\n",
       "      <td>3596</td>\n",
       "      <td>313</td>\n",
       "      <td>112</td>\n",
       "      <td>201</td>\n",
       "      <td>840</td>\n",
       "      <td>354</td>\n",
       "      <td>486</td>\n",
       "    </tr>\n",
       "    <tr>\n",
       "      <th>101</th>\n",
       "      <td>1</td>\n",
       "      <td>公立</td>\n",
       "      <td>一般大學</td>\n",
       "      <td>1</td>\n",
       "      <td>國立政治大學</td>\n",
       "      <td>碩士在職專班</td>\n",
       "      <td>1636</td>\n",
       "      <td>171</td>\n",
       "      <td>79</td>\n",
       "      <td>92</td>\n",
       "      <td>440</td>\n",
       "      <td>215</td>\n",
       "      <td>225</td>\n",
       "    </tr>\n",
       "  </tbody>\n",
       "</table>\n",
       "</div>"
      ],
      "text/plain": [
       "       Unnamed: 1 Unnamed: 2 Unnamed: 3 Unnamed: 4 Unnamed: 5 Unnamed: 6  \\\n",
       "5.休學人數                                                                     \n",
       "學年度            學期         學校        NaN        NaN        NaN         學制   \n",
       "NaN           NaN        設立別       學校類別       學校代碼       學校名稱        NaN   \n",
       "101             1         公立       一般大學          1     國立政治大學    學士班(日間)   \n",
       "101             1         公立       一般大學          1     國立政治大學    碩士班(日間)   \n",
       "101             1         公立       一般大學          1     國立政治大學     碩士在職專班   \n",
       "\n",
       "       Unnamed: 7   Unnamed: 8 Unnamed: 9 Unnamed: 10 Unnamed: 11 Unnamed: 12  \\\n",
       "5.休學人數                                                                          \n",
       "學年度         學生總人數  學期內新增辦理休學人數        NaN         NaN   至學期底總休學人數         NaN   \n",
       "NaN           NaN           總計          男           女          總計           男   \n",
       "101          9782          130         72          58         206         106   \n",
       "101          3596          313        112         201         840         354   \n",
       "101          1636          171         79          92         440         215   \n",
       "\n",
       "       Unnamed: 13  \n",
       "5.休學人數              \n",
       "學年度            NaN  \n",
       "NaN              女  \n",
       "101            100  \n",
       "101            486  \n",
       "101            225  "
      ]
     },
     "execution_count": 212,
     "metadata": {},
     "output_type": "execute_result"
    }
   ],
   "source": [
    "data.head()"
   ]
  },
  {
   "cell_type": "code",
   "execution_count": null,
   "metadata": {
    "collapsed": true
   },
   "outputs": [],
   "source": []
  },
  {
   "cell_type": "code",
   "execution_count": 250,
   "metadata": {
    "collapsed": false
   },
   "outputs": [
    {
     "name": "stdout",
     "output_type": "stream",
     "text": [
      "<class 'list'>\n",
      "<class 'numpy.ndarray'>\n",
      "[[9782 130 206 '一般大學']\n",
      " [6325 142 184 '一般大學']\n",
      " [16915 434 469 '一般大學']\n",
      " [7768 122 171 '一般大學']\n",
      " [11688 270 344 '一般大學']\n",
      " [8321 177 229 '一般大學']\n",
      " [5527 134 159 '一般大學']\n",
      " [6168 104 140 '一般大學']\n",
      " [4628 93 118 '一般大學']\n",
      " [5204 99 110 '一般大學']\n",
      " [6624 119 164 '一般大學']\n",
      " [3370 47 60 '一般大學']\n",
      " [4747 45 70 '一般大學']\n",
      " [2051 68 79 '一般大學']\n",
      " [5618 77 108 '一般大學']\n",
      " [7768 123 210 '一般大學']\n",
      " [4167 66 88 '一般大學']\n",
      " [6970 128 212 '一般大學']\n",
      " [3934 38 55 '一般大學']\n",
      " [1481 37 44 '一般大學']\n",
      " [2266 46 75 '一般大學']\n",
      " [3433 100 161 '一般大學']\n",
      " [4170 56 98 '一般大學']\n",
      " [6143 134 215 '一般大學']\n",
      " [724 15 33 '一般大學']\n",
      " [3865 49 82 '一般大學']\n",
      " [3173 62 77 '一般大學']\n",
      " [2499 20 52 '一般大學']\n",
      " [3330 52 67 '一般大學']\n",
      " [3229 43 63 '一般大學']\n",
      " [1476 44 94 '一般大學']\n",
      " [2654 64 78 '一般大學']\n",
      " [2449 99 223 '一般大學']\n",
      " [2888 64 88 '一般大學']\n",
      " [1866 58 103 '一般大學']\n",
      " [5537 66 128 '技專校院']\n",
      " [6217 46 107 '技專校院']\n",
      " [7599 119 166 '技專校院']\n",
      " [5760 106 187 '技專校院']\n",
      " [5392 78 115 '技專校院']\n",
      " [7462 94 128 '技專校院']\n",
      " [7703 104 256 '技專校院']\n",
      " [4996 84 181 '技專校院']\n",
      " [2563 45 70 '技專校院']\n",
      " [6365 125 253 '技專校院']\n",
      " [2769 39 88 '技專校院']\n",
      " [3140 50 93 '技專校院']\n",
      " [5644 70 151 '技專校院']\n",
      " [2969 41 76 '技專校院']\n",
      " [2146 31 69 '技專校院']\n",
      " [492 15 35 '技專校院']\n",
      " [9782 78 233 '一般大學']\n",
      " [6325 78 203 '一般大學']\n",
      " [16915 196 546 '一般大學']\n",
      " [7768 60 181 '一般大學']\n",
      " [11688 85 354 '一般大學']\n",
      " [8321 59 239 '一般大學']\n",
      " [5527 57 178 '一般大學']\n",
      " [6168 52 147 '一般大學']\n",
      " [4628 31 111 '一般大學']\n",
      " [5204 48 86 '一般大學']\n",
      " [6624 49 150 '一般大學']\n",
      " [3370 15 61 '一般大學']\n",
      " [4747 25 74 '一般大學']\n",
      " [2051 9 69 '一般大學']\n",
      " [5618 49 114 '一般大學']\n",
      " [7768 58 226 '一般大學']\n",
      " [4167 26 92 '一般大學']\n",
      " [6970 95 256 '一般大學']\n",
      " [3934 29 68 '一般大學']\n",
      " [1481 26 60 '一般大學']\n",
      " [2266 24 82 '一般大學']\n",
      " [3433 55 176 '一般大學']\n",
      " [4170 35 105 '一般大學']\n",
      " [6143 69 219 '一般大學']\n",
      " [724 8 38 '一般大學']\n",
      " [3865 28 83 '一般大學']\n",
      " [3173 33 81 '一般大學']\n",
      " [2499 16 51 '一般大學']\n",
      " [3330 32 91 '一般大學']\n",
      " [3229 31 70 '一般大學']\n",
      " [1476 24 99 '一般大學']\n",
      " [2654 34 112 '一般大學']\n",
      " [2449 70 166 '一般大學']\n",
      " [2888 38 116 '一般大學']\n",
      " [1866 34 102 '一般大學']\n",
      " [5537 40 45 '技專校院']\n",
      " [6217 46 176 '技專校院']\n",
      " [7599 64 155 '技專校院']\n",
      " [5760 93 204 '技專校院']\n",
      " [5392 36 131 '技專校院']\n",
      " [7462 52 123 '技專校院']\n",
      " [7703 50 243 '技專校院']\n",
      " [4996 58 190 '技專校院']\n",
      " [2563 34 68 '技專校院']\n",
      " [6365 61 258 '技專校院']\n",
      " [2769 16 84 '技專校院']\n",
      " [3140 17 81 '技專校院']\n",
      " [5644 45 140 '技專校院']\n",
      " [2969 27 78 '技專校院']]\n"
     ]
    }
   ],
   "source": [
    "import re\n",
    "xx=0\n",
    "array = data.values\n",
    "a=0\n",
    "\n",
    "\n",
    "\n",
    "matrix=[]\n",
    "\n",
    "#print(c)\n",
    "for i in range(0,999,1):\n",
    "    if((array[i:i+1,1:2]==\"公立\")and(array[i:i+1,5:6]==\"學士班(日間)\")):\n",
    "        matrix.append([]) #產生一個二維[] 只包住for單次迴圈的三個數\n",
    "        x=array[i:i+1,6:7]       \n",
    "        #x1=x.tolist() #之前為了弄掉array額外顯示的格式(array['x'],dtype=object)用的 但list無法使用flatten() array才能\n",
    "        x1=x.flatten() #[['2969']]-->['2969']\n",
    "        x2 = ''.join(map(str, x1)) #['2969']-->'2969'(一維才能使用)\n",
    "        x3=int(x2) #'2969'--> 2969\n",
    "        y=array[i:i+1,7:8]\n",
    "        y1=y.flatten()\n",
    "        y2 = ''.join(map(str, y1))\n",
    "        y3=int(y2)\n",
    "        z=array[i:i+1,10:11]\n",
    "        z1=z.flatten()\n",
    "        z2 = ''.join(map(str, z1))\n",
    "        z3=int(z2)\n",
    "        q=array[i:i+1,2:3]\n",
    "        q1=q.flatten()\n",
    "        q2 = ''.join(map(str, q1))        \n",
    "        matrix[a].append(x3) #放入新創造的二維陣列[]\n",
    "        matrix[a].append(y3)\n",
    "        matrix[a].append(z3)\n",
    "        matrix[a].append(q2)\n",
    "        a=a+1\n",
    "\n",
    "print(type(matrix))\n",
    "m=np.asarray(matrix,dtype=object)##object記得!!!!!!!!!!!\n",
    "print(type(m))\n",
    "print(m)"
   ]
  },
  {
   "cell_type": "code",
   "execution_count": 251,
   "metadata": {
    "collapsed": false
   },
   "outputs": [
    {
     "name": "stdout",
     "output_type": "stream",
     "text": [
      "array([[9782, 130, 206],\n",
      "       [6325, 142, 184],\n",
      "       [16915, 434, 469],\n",
      "       [7768, 122, 171],\n",
      "       [11688, 270, 344],\n",
      "       [8321, 177, 229],\n",
      "       [5527, 134, 159],\n",
      "       [6168, 104, 140],\n",
      "       [4628, 93, 118],\n",
      "       [5204, 99, 110]], dtype=object)\n",
      "array(['一般大學', '一般大學', '一般大學', '一般大學', '一般大學', '一般大學', '一般大學', '一般大學',\n",
      "       '一般大學', '一般大學'], dtype=object)\n"
     ]
    }
   ],
   "source": [
    "X = m[:,0:3]\n",
    "Y = m[:,3]\n",
    "\n",
    "import pprint\n",
    "\n",
    "pprint.pprint(X[0:10])\n",
    "pprint.pprint(Y[0:10])"
   ]
  },
  {
   "cell_type": "code",
   "execution_count": 252,
   "metadata": {
    "collapsed": false
   },
   "outputs": [
    {
     "name": "stdout",
     "output_type": "stream",
     "text": [
      "80 20\n"
     ]
    }
   ],
   "source": [
    "validation_size = 0.20\n",
    "seed = 7\n",
    "X_train, X_validation, Y_train, Y_validation = model_selection.train_test_split(X, Y, test_size=validation_size, random_state=seed)\n",
    "print(len(X_train),len(X_validation))"
   ]
  },
  {
   "cell_type": "code",
   "execution_count": 253,
   "metadata": {
    "collapsed": false
   },
   "outputs": [],
   "source": [
    "# 設定accuracy為測量標準\n",
    "seed = 7\n",
    "scoring = 'accuracy'"
   ]
  },
  {
   "cell_type": "code",
   "execution_count": 254,
   "metadata": {
    "collapsed": true
   },
   "outputs": [],
   "source": [
    "# 將所有的分類器放入models\n",
    "models = []\n",
    "models.append(('LR', LogisticRegression()))\n",
    "models.append(('LDA', LinearDiscriminantAnalysis()))\n",
    "models.append(('KNN', KNeighborsClassifier()))\n",
    "models.append(('CART', DecisionTreeClassifier()))\n",
    "models.append(('NB', GaussianNB()))\n",
    "models.append(('SVM', SVC()))"
   ]
  },
  {
   "cell_type": "code",
   "execution_count": 255,
   "metadata": {
    "collapsed": false
   },
   "outputs": [
    {
     "name": "stdout",
     "output_type": "stream",
     "text": [
      "LR: 0.700000 (0.160078)\n",
      "LDA: 0.675000 (0.127475)\n",
      "KNN: 0.750000 (0.125000)\n",
      "CART: 0.737500 (0.130504)\n",
      "NB: 0.512500 (0.240117)\n",
      "SVM: 0.725000 (0.165831)\n"
     ]
    }
   ],
   "source": [
    "# 嘗試每一個分類器，用10-Fold CV並且列出平均的效率\n",
    "results = []\n",
    "names = []\n",
    "for name, model in models:\n",
    "    kfold = model_selection.KFold(n_splits=10, random_state=seed)\n",
    "    cv_results = model_selection.cross_val_score(model, X_train, Y_train, cv=kfold, scoring=scoring)\n",
    "    results.append(cv_results)\n",
    "    names.append(name)\n",
    "    print(\"%s: %f (%f)\" % (name, cv_results.mean(), cv_results.std()))"
   ]
  },
  {
   "cell_type": "code",
   "execution_count": 256,
   "metadata": {
    "collapsed": false
   },
   "outputs": [
    {
     "data": {
      "image/png": "[encoded data removed]",
      "text/plain": [
       "<matplotlib.figure.Figure at 0xb235d57b00>"
      ]
     },
     "metadata": {},
     "output_type": "display_data"
    }
   ],
   "source": [
    "# 比較演算法\n",
    "fig = plt.figure()\n",
    "fig.suptitle('Algorithm Comparison')\n",
    "ax = fig.add_subplot(111)\n",
    "plt.boxplot(results)\n",
    "ax.set_xticklabels(names)\n",
    "plt.show()"
   ]
  },
  {
   "cell_type": "code",
   "execution_count": 267,
   "metadata": {
    "collapsed": false
   },
   "outputs": [
    {
     "name": "stdout",
     "output_type": "stream",
     "text": [
      "0.55\n",
      "[[11  1]\n",
      " [ 8  0]]\n",
      "             precision    recall  f1-score   support\n",
      "\n",
      "       一般大學       0.58      0.92      0.71        12\n",
      "       技專校院       0.00      0.00      0.00         8\n",
      "\n",
      "avg / total       0.35      0.55      0.43        20\n",
      "\n"
     ]
    }
   ],
   "source": [
    "# 最好的是KNN，所以我們利用KNN來做預測! 但並非如此\n",
    "CART = KNeighborsClassifier()\n",
    "CART.fit(X_train, Y_train)\n",
    "predictions = CART.predict(X_validation)\n",
    "print(accuracy_score(Y_validation, predictions))\n",
    "print(confusion_matrix(Y_validation, predictions))\n",
    "print(classification_report(Y_validation, predictions))"
   ]
  },
  {
   "cell_type": "code",
   "execution_count": 268,
   "metadata": {
    "collapsed": false
   },
   "outputs": [
    {
     "name": "stdout",
     "output_type": "stream",
     "text": [
      "0.7\n",
      "[[12  0]\n",
      " [ 6  2]]\n",
      "             precision    recall  f1-score   support\n",
      "\n",
      "       一般大學       0.67      1.00      0.80        12\n",
      "       技專校院       1.00      0.25      0.40         8\n",
      "\n",
      "avg / total       0.80      0.70      0.64        20\n",
      "\n"
     ]
    }
   ],
   "source": [
    "knn = DecisionTreeClassifier()  #DecisionTreeClassifier才是最棒的\n",
    "knn.fit(X_train, Y_train)\n",
    "predictions = knn.predict(X_validation)\n",
    "print(accuracy_score(Y_validation, predictions))\n",
    "print(confusion_matrix(Y_validation, predictions))\n",
    "print(classification_report(Y_validation, predictions))"
   ]
  },
  {
   "cell_type": "code",
   "execution_count": null,
   "metadata": {
    "collapsed": true
   },
   "outputs": [],
   "source": []
  }
 ],
 "metadata": {
  "anaconda-cloud": {},
  "kernelspec": {
   "display_name": "Python [conda root]",
   "language": "python",
   "name": "conda-root-py"
  },
  "language_info": {
   "codemirror_mode": {
    "name": "ipython",
    "version": 3
   },
   "file_extension": ".py",
   "mimetype": "text/x-python",
   "name": "python",
   "nbconvert_exporter": "python",
   "pygments_lexer": "ipython3",
   "version": "3.5.2"
  }
 },
 "nbformat": 4,
 "nbformat_minor": 1
}
