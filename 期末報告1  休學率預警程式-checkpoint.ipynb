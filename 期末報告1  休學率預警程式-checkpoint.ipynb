{
 "cells": [
  {
   "cell_type": "code",
   "execution_count": 1,
   "metadata": {
    "collapsed": true
   },
   "outputs": [],
   "source": [
    "import pandas as pd\n",
    "import matplotlib.pyplot as plt\n",
    "from sklearn.linear_model import LinearRegression\n",
    "from pyexcel_ods import get_data\n",
    "import pyexcel\n",
    "\n",
    "import pandas\n",
    "from pandas.tools.plotting import scatter_matrix\n",
    "import matplotlib.pyplot as plt\n",
    "from sklearn import model_selection\n",
    "from sklearn.metrics import classification_report\n",
    "from sklearn.metrics import confusion_matrix\n",
    "from sklearn.metrics import accuracy_score\n",
    "from sklearn.linear_model import LogisticRegression\n",
    "from sklearn.tree import DecisionTreeClassifier\n",
    "from sklearn.neighbors import KNeighborsClassifier\n",
    "from sklearn.discriminant_analysis import LinearDiscriminantAnalysis\n",
    "from sklearn.naive_bayes import GaussianNB\n",
    "from sklearn.svm import SVC\n",
    "import numpy as np"
   ]
  },
  {
   "cell_type": "code",
   "execution_count": 2,
   "metadata": {
    "collapsed": false
   },
   "outputs": [
    {
     "data": {
      "text/plain": [
       "(6003, 13)"
      ]
     },
     "execution_count": 2,
     "metadata": {},
     "output_type": "execute_result"
    }
   ],
   "source": [
    "# Loadtxt\n",
    "data = pd.read_csv('https://drive.google.com/uc?export=download&id=1dsMwUCqQJKUUUJZMG0pp32KpgF0XaqvY', index_col=0)\n",
    "data.shape\n"
   ]
  },
  {
   "cell_type": "code",
   "execution_count": 3,
   "metadata": {
    "collapsed": false
   },
   "outputs": [
    {
     "data": {
      "text/html": [
       "<div>\n",
       "<style>\n",
       "    .dataframe thead tr:only-child th {\n",
       "        text-align: right;\n",
       "    }\n",
       "\n",
       "    .dataframe thead th {\n",
       "        text-align: left;\n",
       "    }\n",
       "\n",
       "    .dataframe tbody tr th {\n",
       "        vertical-align: top;\n",
       "    }\n",
       "</style>\n",
       "<table border=\"1\" class=\"dataframe\">\n",
       "  <thead>\n",
       "    <tr style=\"text-align: right;\">\n",
       "      <th></th>\n",
       "      <th>Unnamed: 1</th>\n",
       "      <th>Unnamed: 2</th>\n",
       "      <th>Unnamed: 3</th>\n",
       "      <th>Unnamed: 4</th>\n",
       "      <th>Unnamed: 5</th>\n",
       "      <th>Unnamed: 6</th>\n",
       "      <th>Unnamed: 7</th>\n",
       "      <th>Unnamed: 8</th>\n",
       "      <th>Unnamed: 9</th>\n",
       "      <th>Unnamed: 10</th>\n",
       "      <th>Unnamed: 11</th>\n",
       "      <th>Unnamed: 12</th>\n",
       "      <th>Unnamed: 13</th>\n",
       "    </tr>\n",
       "    <tr>\n",
       "      <th>5.休學人數</th>\n",
       "      <th></th>\n",
       "      <th></th>\n",
       "      <th></th>\n",
       "      <th></th>\n",
       "      <th></th>\n",
       "      <th></th>\n",
       "      <th></th>\n",
       "      <th></th>\n",
       "      <th></th>\n",
       "      <th></th>\n",
       "      <th></th>\n",
       "      <th></th>\n",
       "      <th></th>\n",
       "    </tr>\n",
       "  </thead>\n",
       "  <tbody>\n",
       "    <tr>\n",
       "      <th>學年度</th>\n",
       "      <td>學期</td>\n",
       "      <td>學校</td>\n",
       "      <td>NaN</td>\n",
       "      <td>NaN</td>\n",
       "      <td>NaN</td>\n",
       "      <td>學制</td>\n",
       "      <td>學生總人數</td>\n",
       "      <td>學期內新增辦理休學人數</td>\n",
       "      <td>NaN</td>\n",
       "      <td>NaN</td>\n",
       "      <td>至學期底總休學人數</td>\n",
       "      <td>NaN</td>\n",
       "      <td>NaN</td>\n",
       "    </tr>\n",
       "    <tr>\n",
       "      <th>NaN</th>\n",
       "      <td>NaN</td>\n",
       "      <td>設立別</td>\n",
       "      <td>學校類別</td>\n",
       "      <td>學校代碼</td>\n",
       "      <td>學校名稱</td>\n",
       "      <td>NaN</td>\n",
       "      <td>NaN</td>\n",
       "      <td>總計</td>\n",
       "      <td>男</td>\n",
       "      <td>女</td>\n",
       "      <td>總計</td>\n",
       "      <td>男</td>\n",
       "      <td>女</td>\n",
       "    </tr>\n",
       "    <tr>\n",
       "      <th>101</th>\n",
       "      <td>1</td>\n",
       "      <td>公立</td>\n",
       "      <td>一般大學</td>\n",
       "      <td>1</td>\n",
       "      <td>國立政治大學</td>\n",
       "      <td>學士班(日間)</td>\n",
       "      <td>9782</td>\n",
       "      <td>130</td>\n",
       "      <td>72</td>\n",
       "      <td>58</td>\n",
       "      <td>206</td>\n",
       "      <td>106</td>\n",
       "      <td>100</td>\n",
       "    </tr>\n",
       "    <tr>\n",
       "      <th>101</th>\n",
       "      <td>1</td>\n",
       "      <td>公立</td>\n",
       "      <td>一般大學</td>\n",
       "      <td>1</td>\n",
       "      <td>國立政治大學</td>\n",
       "      <td>碩士班(日間)</td>\n",
       "      <td>3596</td>\n",
       "      <td>313</td>\n",
       "      <td>112</td>\n",
       "      <td>201</td>\n",
       "      <td>840</td>\n",
       "      <td>354</td>\n",
       "      <td>486</td>\n",
       "    </tr>\n",
       "    <tr>\n",
       "      <th>101</th>\n",
       "      <td>1</td>\n",
       "      <td>公立</td>\n",
       "      <td>一般大學</td>\n",
       "      <td>1</td>\n",
       "      <td>國立政治大學</td>\n",
       "      <td>碩士在職專班</td>\n",
       "      <td>1636</td>\n",
       "      <td>171</td>\n",
       "      <td>79</td>\n",
       "      <td>92</td>\n",
       "      <td>440</td>\n",
       "      <td>215</td>\n",
       "      <td>225</td>\n",
       "    </tr>\n",
       "  </tbody>\n",
       "</table>\n",
       "</div>"
      ],
      "text/plain": [
       "       Unnamed: 1 Unnamed: 2 Unnamed: 3 Unnamed: 4 Unnamed: 5 Unnamed: 6  \\\n",
       "5.休學人數                                                                     \n",
       "學年度            學期         學校        NaN        NaN        NaN         學制   \n",
       "NaN           NaN        設立別       學校類別       學校代碼       學校名稱        NaN   \n",
       "101             1         公立       一般大學          1     國立政治大學    學士班(日間)   \n",
       "101             1         公立       一般大學          1     國立政治大學    碩士班(日間)   \n",
       "101             1         公立       一般大學          1     國立政治大學     碩士在職專班   \n",
       "\n",
       "       Unnamed: 7   Unnamed: 8 Unnamed: 9 Unnamed: 10 Unnamed: 11 Unnamed: 12  \\\n",
       "5.休學人數                                                                          \n",
       "學年度         學生總人數  學期內新增辦理休學人數        NaN         NaN   至學期底總休學人數         NaN   \n",
       "NaN           NaN           總計          男           女          總計           男   \n",
       "101          9782          130         72          58         206         106   \n",
       "101          3596          313        112         201         840         354   \n",
       "101          1636          171         79          92         440         215   \n",
       "\n",
       "       Unnamed: 13  \n",
       "5.休學人數              \n",
       "學年度            NaN  \n",
       "NaN              女  \n",
       "101            100  \n",
       "101            486  \n",
       "101            225  "
      ]
     },
     "execution_count": 3,
     "metadata": {},
     "output_type": "execute_result"
    }
   ],
   "source": [
    "data.head()"
   ]
  },
  {
   "cell_type": "code",
   "execution_count": 84,
   "metadata": {
    "collapsed": false
   },
   "outputs": [
    {
     "name": "stdout",
     "output_type": "stream",
     "text": [
      "總共 199 所\n",
      "199 所學校總休學率平均值為 0.04218666746159705\n",
      "62 所超過 199 所學校總休學率平均\n"
     ]
    }
   ],
   "source": [
    "\n",
    "\n",
    "array = data.values\n",
    "\n",
    "\n",
    "e1=0\n",
    "s=0.000000\n",
    "av=0.000000\n",
    "uv=0\n",
    "for i in range(0,999,1):\n",
    "    if(array[i:i+1,5:6]==\"學士班(日間)\"):\n",
    "        \n",
    "       \n",
    "        q=array[i:i+1,6:7] \n",
    "        \n",
    "        #x1=x.tolist() #之前為了弄掉array額外顯示的格式(array['x'],dtype=object)用的 但list無法使用flatten() array才能\n",
    "        q1=q.flatten() #[['2969']]-->['2969']\n",
    "        q2 = ''.join(map(str, q1)) #['2969']-->'2969'(一維才能使用)\n",
    "        q3=float(q2) #'2969'--> 2969\n",
    "        w=array[i:i+1,10:11]\n",
    "        w1=w.flatten()\n",
    "        w2 = ''.join(map(str, w1))\n",
    "        w3=float(w2)\n",
    "        e=w3/q3\n",
    "        #print(e)\n",
    "        e1=e1+1\n",
    "        s=s+e\n",
    "        if(e>0.04218666746159705):#驗證超過平均的數目\n",
    "            uv=uv+1\n",
    "        \n",
    "av=s/e1\n",
    "print(\"總共\",e1,\"所\")\n",
    "print(e1,\"所學校總休學率平均值為\",av)\n",
    "#print(s)\n",
    "print(uv,\"所超過\",e1,\"所學校總休學率平均\")"
   ]
  },
  {
   "cell_type": "code",
   "execution_count": 82,
   "metadata": {
    "collapsed": false
   },
   "outputs": [
    {
     "name": "stdout",
     "output_type": "stream",
     "text": [
      "<class 'list'>\n",
      "<class 'numpy.ndarray'>\n",
      "[[9782 130 '未超過所有大學休學平均']\n",
      " [6325 142 '未超過所有大學休學平均']\n",
      " [16915 434 '未超過所有大學休學平均']\n",
      " [7768 122 '未超過所有大學休學平均']\n",
      " [11688 270 '未超過所有大學休學平均']\n",
      " [8321 177 '未超過所有大學休學平均']\n",
      " [5527 134 '未超過所有大學休學平均']\n",
      " [6168 104 '未超過所有大學休學平均']\n",
      " [4628 93 '未超過所有大學休學平均']\n",
      " [5204 99 '未超過所有大學休學平均']\n",
      " [6624 119 '未超過所有大學休學平均']\n",
      " [3370 47 '未超過所有大學休學平均']\n",
      " [4747 45 '未超過所有大學休學平均']\n",
      " [2051 68 '未超過所有大學休學平均']\n",
      " [5618 77 '未超過所有大學休學平均']\n",
      " [7768 123 '未超過所有大學休學平均']\n",
      " [4167 66 '未超過所有大學休學平均']\n",
      " [6970 128 '未超過所有大學休學平均']\n",
      " [3934 38 '未超過所有大學休學平均']\n",
      " [1481 37 '未超過所有大學休學平均']\n",
      " [2266 46 '未超過所有大學休學平均']\n",
      " [3433 100 '已超過所有大學休學平均']\n",
      " [4170 56 '未超過所有大學休學平均']\n",
      " [6143 134 '未超過所有大學休學平均']\n",
      " [724 15 '已超過所有大學休學平均']\n",
      " [3865 49 '未超過所有大學休學平均']\n",
      " [3173 62 '未超過所有大學休學平均']\n",
      " [2499 20 '未超過所有大學休學平均']\n",
      " [3330 52 '未超過所有大學休學平均']\n",
      " [3229 43 '未超過所有大學休學平均']\n",
      " [1476 44 '已超過所有大學休學平均']\n",
      " [2654 64 '未超過所有大學休學平均']\n",
      " [2449 99 '已超過所有大學休學平均']\n",
      " [2888 64 '未超過所有大學休學平均']\n",
      " [1866 58 '已超過所有大學休學平均']\n",
      " [5537 66 '未超過所有大學休學平均']\n",
      " [6217 46 '未超過所有大學休學平均']\n",
      " [7599 119 '未超過所有大學休學平均']\n",
      " [5760 106 '未超過所有大學休學平均']\n",
      " [5392 78 '未超過所有大學休學平均']\n",
      " [7462 94 '未超過所有大學休學平均']\n",
      " [7703 104 '未超過所有大學休學平均']\n",
      " [4996 84 '未超過所有大學休學平均']\n",
      " [2563 45 '未超過所有大學休學平均']\n",
      " [6365 125 '未超過所有大學休學平均']\n",
      " [2769 39 '未超過所有大學休學平均']\n",
      " [3140 50 '未超過所有大學休學平均']\n",
      " [5644 70 '未超過所有大學休學平均']\n",
      " [2969 41 '未超過所有大學休學平均']\n",
      " [2146 31 '未超過所有大學休學平均']\n",
      " [492 15 '已超過所有大學休學平均']\n",
      " [13578 246 '未超過所有大學休學平均']\n",
      " [17829 414 '未超過所有大學休學平均']\n",
      " [11793 280 '未超過所有大學休學平均']\n",
      " [12582 214 '未超過所有大學休學平均']\n",
      " [21025 418 '未超過所有大學休學平均']\n",
      " [20488 376 '未超過所有大學休學平均']\n",
      " [16460 344 '未超過所有大學休學平均']\n",
      " [11083 238 '未超過所有大學休學平均']\n",
      " [5054 120 '未超過所有大學休學平均']\n",
      " [7073 65 '未超過所有大學休學平均']\n",
      " [6871 157 '未超過所有大學休學平均']\n",
      " [7465 179 '未超過所有大學休學平均']\n",
      " [2918 136 '已超過所有大學休學平均']\n",
      " [12009 78 '未超過所有大學休學平均']\n",
      " [9528 162 '未超過所有大學休學平均']\n",
      " [16902 344 '未超過所有大學休學平均']\n",
      " [12279 216 '未超過所有大學休學平均']\n",
      " [5589 148 '未超過所有大學休學平均']\n",
      " [3511 114 '已超過所有大學休學平均']\n",
      " [7936 165 '未超過所有大學休學平均']\n",
      " [3694 55 '已超過所有大學休學平均']\n",
      " [2809 48 '未超過所有大學休學平均']\n",
      " [4507 88 '未超過所有大學休學平均']\n",
      " [6490 132 '未超過所有大學休學平均']\n",
      " [8584 241 '未超過所有大學休學平均']\n",
      " [6458 168 '未超過所有大學休學平均']\n",
      " [3650 230 '已超過所有大學休學平均']\n",
      " [9261 184 '已超過所有大學休學平均']\n",
      " [8020 164 '已超過所有大學休學平均']\n",
      " [2262 63 '已超過所有大學休學平均']\n",
      " [3346 70 '未超過所有大學休學平均']\n",
      " [1121 70 '已超過所有大學休學平均']\n",
      " [3722 83 '未超過所有大學休學平均']\n",
      " [199 5 '未超過所有大學休學平均']\n",
      " [1562 43 '已超過所有大學休學平均']\n",
      " [335 10 '未超過所有大學休學平均']\n",
      " [54 0 '未超過所有大學休學平均']\n",
      " [41 1 '未超過所有大學休學平均']\n",
      " [11041 196 '未超過所有大學休學平均']\n",
      " [13094 146 '未超過所有大學休學平均']\n",
      " [8578 236 '已超過所有大學休學平均']\n",
      " [12702 218 '未超過所有大學休學平均']\n",
      " [8103 255 '已超過所有大學休學平均']\n",
      " [6346 97 '未超過所有大學休學平均']\n",
      " [5261 178 '已超過所有大學休學平均']\n",
      " [8583 173 '已超過所有大學休學平均']\n",
      " [7618 132 '未超過所有大學休學平均']\n",
      " [8701 176 '已超過所有大學休學平均']\n",
      " [9183 186 '已超過所有大學休學平均']\n",
      " [5383 108 '已超過所有大學休學平均']\n",
      " [7007 133 '未超過所有大學休學平均']\n",
      " [3197 37 '未超過所有大學休學平均']\n",
      " [5376 92 '未超過所有大學休學平均']\n",
      " [6078 179 '已超過所有大學休學平均']\n",
      " [6068 165 '已超過所有大學休學平均']\n",
      " [7011 100 '未超過所有大學休學平均']\n",
      " [8300 184 '未超過所有大學休學平均']\n",
      " [6355 166 '已超過所有大學休學平均']\n",
      " [8487 136 '已超過所有大學休學平均']\n",
      " [8152 164 '已超過所有大學休學平均']\n",
      " [6112 152 '已超過所有大學休學平均']\n",
      " [5977 101 '未超過所有大學休學平均']\n",
      " [4891 95 '未超過所有大學休學平均']\n",
      " [6448 272 '已超過所有大學休學平均']\n",
      " [6324 109 '未超過所有大學休學平均']\n",
      " [3658 81 '已超過所有大學休學平均']\n",
      " [6585 135 '已超過所有大學休學平均']\n",
      " [5294 114 '未超過所有大學休學平均']\n",
      " [4932 278 '已超過所有大學休學平均']\n",
      " [3627 93 '已超過所有大學休學平均']\n",
      " [4220 123 '已超過所有大學休學平均']\n",
      " [4270 144 '已超過所有大學休學平均']\n",
      " [3946 107 '已超過所有大學休學平均']\n",
      " [5255 52 '已超過所有大學休學平均']\n",
      " [3561 50 '未超過所有大學休學平均']\n",
      " [6240 190 '已超過所有大學休學平均']\n",
      " [2154 82 '已超過所有大學休學平均']\n",
      " [5190 184 '未超過所有大學休學平均']\n",
      " [5330 152 '已超過所有大學休學平均']\n",
      " [1246 43 '已超過所有大學休學平均']\n",
      " [1220 31 '未超過所有大學休學平均']\n",
      " [501 42 '已超過所有大學休學平均']\n",
      " [1857 91 '已超過所有大學休學平均']\n",
      " [5630 94 '未超過所有大學休學平均']\n",
      " [4574 90 '未超過所有大學休學平均']\n",
      " [5064 141 '已超過所有大學休學平均']\n",
      " [3553 164 '已超過所有大學休學平均']\n",
      " [1517 33 '未超過所有大學休學平均']\n",
      " [2107 45 '已超過所有大學休學平均']\n",
      " [2492 57 '已超過所有大學休學平均']\n",
      " [2253 104 '已超過所有大學休學平均']\n",
      " [1946 113 '已超過所有大學休學平均']\n",
      " [2384 106 '已超過所有大學休學平均']\n",
      " [2161 72 '已超過所有大學休學平均']\n",
      " [2130 69 '已超過所有大學休學平均']\n",
      " [550 35 '已超過所有大學休學平均']\n",
      " [2914 97 '已超過所有大學休學平均']\n",
      " [1628 45 '已超過所有大學休學平均']\n",
      " [3788 79 '已超過所有大學休學平均']\n",
      " [9782 78 '未超過所有大學休學平均']\n",
      " [6325 78 '未超過所有大學休學平均']\n",
      " [16915 196 '未超過所有大學休學平均']\n",
      " [7768 60 '未超過所有大學休學平均']\n",
      " [11688 85 '未超過所有大學休學平均']\n",
      " [8321 59 '未超過所有大學休學平均']\n",
      " [5527 57 '未超過所有大學休學平均']\n",
      " [6168 52 '未超過所有大學休學平均']\n",
      " [4628 31 '未超過所有大學休學平均']\n",
      " [5204 48 '未超過所有大學休學平均']\n",
      " [6624 49 '未超過所有大學休學平均']\n",
      " [3370 15 '未超過所有大學休學平均']\n",
      " [4747 25 '未超過所有大學休學平均']\n",
      " [2051 9 '未超過所有大學休學平均']\n",
      " [5618 49 '未超過所有大學休學平均']\n",
      " [7768 58 '未超過所有大學休學平均']\n",
      " [4167 26 '未超過所有大學休學平均']\n",
      " [6970 95 '未超過所有大學休學平均']\n",
      " [3934 29 '未超過所有大學休學平均']\n",
      " [1481 26 '未超過所有大學休學平均']\n",
      " [2266 24 '未超過所有大學休學平均']\n",
      " [3433 55 '已超過所有大學休學平均']\n",
      " [4170 35 '未超過所有大學休學平均']\n",
      " [6143 69 '未超過所有大學休學平均']\n",
      " [724 8 '已超過所有大學休學平均']\n",
      " [3865 28 '未超過所有大學休學平均']\n",
      " [3173 33 '未超過所有大學休學平均']\n",
      " [2499 16 '未超過所有大學休學平均']\n",
      " [3330 32 '未超過所有大學休學平均']\n",
      " [3229 31 '未超過所有大學休學平均']\n",
      " [1476 24 '已超過所有大學休學平均']\n",
      " [2654 34 '已超過所有大學休學平均']\n",
      " [2449 70 '已超過所有大學休學平均']\n",
      " [2888 38 '未超過所有大學休學平均']\n",
      " [1866 34 '已超過所有大學休學平均']\n",
      " [5537 40 '未超過所有大學休學平均']\n",
      " [6217 46 '未超過所有大學休學平均']\n",
      " [7599 64 '未超過所有大學休學平均']\n",
      " [5760 93 '未超過所有大學休學平均']\n",
      " [5392 36 '未超過所有大學休學平均']\n",
      " [7462 52 '未超過所有大學休學平均']\n",
      " [7703 50 '未超過所有大學休學平均']\n",
      " [4996 58 '未超過所有大學休學平均']\n",
      " [2563 34 '未超過所有大學休學平均']\n",
      " [6365 61 '未超過所有大學休學平均']\n",
      " [2769 16 '未超過所有大學休學平均']\n",
      " [3140 17 '未超過所有大學休學平均']\n",
      " [5644 45 '未超過所有大學休學平均']\n",
      " [2969 27 '未超過所有大學休學平均']]\n",
      "62 所有學校已完成標記\n"
     ]
    }
   ],
   "source": [
    "\n",
    "#array = data.values\n",
    "a=0\n",
    "matrix=[]\n",
    "ooo=0\n",
    "#print(c)\n",
    "for i in range(0,999,1):\n",
    "    if(array[i:i+1,5:6]==\"學士班(日間)\"):\n",
    "        matrix.append([]) #產生一個二維[] 只包住for單次迴圈的三個數\n",
    "        x=array[i:i+1,6:7]       \n",
    "        #x1=x.tolist() #之前為了弄掉array額外顯示的格式(array['x'],dtype=object)用的 但list無法使用flatten() array才能\n",
    "        x1=x.flatten() #[['2969']]-->['2969']\n",
    "        x2 = ''.join(map(str, x1)) #['2969']-->'2969'(一維才能使用)\n",
    "        x3=int(x2) #'2969'--> 2969\n",
    "        y=array[i:i+1,7:8]\n",
    "        y1=y.flatten()\n",
    "        y2 = ''.join(map(str, y1))\n",
    "        y3=int(y2)\n",
    "        z=array[i:i+1,10:11]\n",
    "        z1=z.flatten()\n",
    "        z2 = ''.join(map(str, z1))\n",
    "        z3=int(z2)\n",
    "        u=float(z3)/float(x3)\n",
    "        matrix[a].append(x3) #放入新創造的二維陣列[]\n",
    "        matrix[a].append(y3)\n",
    "        if(u>av):\n",
    "            matrix[a].append(\"已超過所有大學休學平均\")\n",
    "            ooo=ooo+1\n",
    "        else:\n",
    "            matrix[a].append(\"未超過所有大學休學平均\")\n",
    "            \n",
    "        \n",
    "        a=a+1\n",
    "\n",
    "print(type(matrix))\n",
    "m=np.asarray(matrix,dtype=object)##object記得!!!!!!!!!!!\n",
    "print(type(m))\n",
    "print(m)\n",
    "print(ooo,\"所有學校已完成標記\")"
   ]
  },
  {
   "cell_type": "code",
   "execution_count": 53,
   "metadata": {
    "collapsed": false
   },
   "outputs": [
    {
     "name": "stdout",
     "output_type": "stream",
     "text": [
      "array([[9782, 130],\n",
      "       [6325, 142],\n",
      "       [16915, 434],\n",
      "       [7768, 122],\n",
      "       [11688, 270],\n",
      "       [8321, 177],\n",
      "       [5527, 134],\n",
      "       [6168, 104],\n",
      "       [4628, 93],\n",
      "       [5204, 99]], dtype=object)\n",
      "array(['未超過所有大學休學平均', '未超過所有大學休學平均', '未超過所有大學休學平均', '未超過所有大學休學平均',\n",
      "       '未超過所有大學休學平均', '未超過所有大學休學平均', '未超過所有大學休學平均', '未超過所有大學休學平均',\n",
      "       '未超過所有大學休學平均', '未超過所有大學休學平均'], dtype=object)\n"
     ]
    }
   ],
   "source": [
    "X = m[:,0:2]\n",
    "Y = m[:,2]\n",
    "\n",
    "import pprint\n",
    "\n",
    "pprint.pprint(X[0:10])\n",
    "pprint.pprint(Y[0:10])"
   ]
  },
  {
   "cell_type": "code",
   "execution_count": 54,
   "metadata": {
    "collapsed": false
   },
   "outputs": [
    {
     "name": "stdout",
     "output_type": "stream",
     "text": [
      "159 40\n"
     ]
    }
   ],
   "source": [
    "validation_size = 0.20\n",
    "seed = 7\n",
    "X_train, X_validation, Y_train, Y_validation = model_selection.train_test_split(X, Y, test_size=validation_size, random_state=seed)\n",
    "print(len(X_train),len(X_validation))"
   ]
  },
  {
   "cell_type": "code",
   "execution_count": 55,
   "metadata": {
    "collapsed": true
   },
   "outputs": [],
   "source": [
    "# 設定accuracy為測量標準\n",
    "seed = 7\n",
    "scoring = 'accuracy'"
   ]
  },
  {
   "cell_type": "code",
   "execution_count": 56,
   "metadata": {
    "collapsed": true
   },
   "outputs": [],
   "source": [
    "# 將所有的分類器放入models\n",
    "models = []\n",
    "models.append(('LR', LogisticRegression()))\n",
    "models.append(('LDA', LinearDiscriminantAnalysis()))\n",
    "models.append(('KNN', KNeighborsClassifier()))\n",
    "models.append(('CART', DecisionTreeClassifier()))\n",
    "models.append(('NB', GaussianNB()))\n",
    "models.append(('SVM', SVC()))"
   ]
  },
  {
   "cell_type": "code",
   "execution_count": 57,
   "metadata": {
    "collapsed": false
   },
   "outputs": [
    {
     "name": "stdout",
     "output_type": "stream",
     "text": [
      "LR: 0.849583 (0.097262)\n",
      "LDA: 0.837083 (0.093103)\n",
      "KNN: 0.692083 (0.105483)\n",
      "CART: 0.755833 (0.101776)\n",
      "NB: 0.724167 (0.111411)\n",
      "SVM: 0.705000 (0.095721)\n"
     ]
    }
   ],
   "source": [
    "# 嘗試每一個分類器，用10-Fold CV並且列出平均的效率\n",
    "results = []\n",
    "names = []\n",
    "for name, model in models:\n",
    "    kfold = model_selection.KFold(n_splits=10, random_state=seed)\n",
    "    cv_results = model_selection.cross_val_score(model, X_train, Y_train, cv=kfold, scoring=scoring)\n",
    "    results.append(cv_results)\n",
    "    names.append(name)\n",
    "    print(\"%s: %f (%f)\" % (name, cv_results.mean(), cv_results.std()))"
   ]
  },
  {
   "cell_type": "code",
   "execution_count": 58,
   "metadata": {
    "collapsed": false
   },
   "outputs": [
    {
     "data": {
      "image/png": "[encoded data removed]",
      "text/plain": [
       "<matplotlib.figure.Figure at 0xc5a61124a8>"
      ]
     },
     "metadata": {},
     "output_type": "display_data"
    }
   ],
   "source": [
    "# 比較演算法\n",
    "fig = plt.figure()\n",
    "fig.suptitle('Algorithm Comparison')\n",
    "ax = fig.add_subplot(111)\n",
    "plt.boxplot(results)\n",
    "ax.set_xticklabels(names)\n",
    "plt.show()"
   ]
  },
  {
   "cell_type": "code",
   "execution_count": 76,
   "metadata": {
    "collapsed": false
   },
   "outputs": [
    {
     "name": "stdout",
     "output_type": "stream",
     "text": [
      "0.8\n",
      "[[10  5]\n",
      " [ 3 22]]\n",
      "             precision    recall  f1-score   support\n",
      "\n",
      "已超過所有大學休學平均       0.77      0.67      0.71        15\n",
      "未超過所有大學休學平均       0.81      0.88      0.85        25\n",
      "\n",
      "avg / total       0.80      0.80      0.80        40\n",
      "\n"
     ]
    }
   ],
   "source": [
    "# 最好的是LR，所以我們利用LR來做預測! 也發現lR確實是最好的\n",
    "LR = LogisticRegression()\n",
    "LR.fit(X_train, Y_train)\n",
    "predictions = LR.predict(X_validation)\n",
    "print(accuracy_score(Y_validation, predictions))\n",
    "print(confusion_matrix(Y_validation, predictions))\n",
    "print(classification_report(Y_validation, predictions))\n",
    "\n"
   ]
  },
  {
   "cell_type": "code",
   "execution_count": null,
   "metadata": {
    "collapsed": false
   },
   "outputs": [],
   "source": []
  },
  {
   "cell_type": "code",
   "execution_count": null,
   "metadata": {
    "collapsed": true
   },
   "outputs": [],
   "source": []
  }
 ],
 "metadata": {
  "anaconda-cloud": {},
  "kernelspec": {
   "display_name": "Python [conda root]",
   "language": "python",
   "name": "conda-root-py"
  },
  "language_info": {
   "codemirror_mode": {
    "name": "ipython",
    "version": 3
   },
   "file_extension": ".py",
   "mimetype": "text/x-python",
   "name": "python",
   "nbconvert_exporter": "python",
   "pygments_lexer": "ipython3",
   "version": "3.5.2"
  }
 },
 "nbformat": 4,
 "nbformat_minor": 1
}
